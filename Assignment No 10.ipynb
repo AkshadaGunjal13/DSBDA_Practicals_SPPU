{
 "cells": [
  {
   "cell_type": "code",
   "execution_count": 1,
   "id": "d2194d8b-4509-48cb-aa71-d18ca1a1e0ff",
   "metadata": {},
   "outputs": [],
   "source": [
    "# Data Visualization III -Download the Iris flower dataset or any other dataset into a Data Frame. (e.g., https://archive.ics.uci.edu/ml/datasets/Iris ).\n",
    "# Scan the dataset and give the inference as: 1. List down the features and their types (e.g., numeric, nominal) available in the dataset. \n",
    "# 2. Create a histogram for each feature in the dataset to illustrate the feature distributions. \n",
    "# 3. Create a boxplot for each feature in the dataset. \n",
    "# 4. Compare distributions and identify outliers"
   ]
  },
  {
   "cell_type": "code",
   "execution_count": null,
   "id": "bd07a64b-a688-4754-aafa-25aacd4c86ce",
   "metadata": {},
   "outputs": [],
   "source": [
    "# Import necessary libraries\n",
    "import pandas as pd\n",
    "import matplotlib.pyplot as plt\n",
    "import seaborn as sns"
   ]
  },
  {
   "cell_type": "code",
   "execution_count": null,
   "id": "75fe93de-7064-4539-ae26-6f62ac6f1ff1",
   "metadata": {},
   "outputs": [],
   "source": [
    "# Load the dataset\n",
    "df = pd.read_csv(\"Iris.csv\")  # Replace with your path if needed"
   ]
  },
  {
   "cell_type": "code",
   "execution_count": null,
   "id": "ba374c4b-b1ae-442c-9c5d-8fde3d19efcc",
   "metadata": {},
   "outputs": [],
   "source": [
    "# 1. List down the features and their types\n",
    "# ----------------------------\n",
    "print(\"Feature Types:\")\n",
    "print(df.dtypes)"
   ]
  },
  {
   "cell_type": "code",
   "execution_count": null,
   "id": "7ee5b07d-ee22-4d3c-baf8-2ee8e42e2991",
   "metadata": {},
   "outputs": [],
   "source": [
    "# 2. Create a histogram for each feature\n",
    "# ----------------------------\n",
    "# Drop 'Id' for visualization\n",
    "data = df.drop(columns='Id')"
   ]
  },
  {
   "cell_type": "code",
   "execution_count": null,
   "id": "b074d61a-ca63-4227-8852-8022e7a6615d",
   "metadata": {},
   "outputs": [],
   "source": [
    "# Set plot style\n",
    "sns.set(style=\"whitegrid\")"
   ]
  },
  {
   "cell_type": "code",
   "execution_count": null,
   "id": "078aef84-0fa9-4a57-a7c9-7ea513670dd9",
   "metadata": {},
   "outputs": [],
   "source": [
    "# Plot histograms\n",
    "data.hist(bins=15, figsize=(12, 8), layout=(2, 2), edgecolor='black')\n",
    "plt.suptitle('Histograms of Iris Features', fontsize=16)\n",
    "plt.tight_layout()\n",
    "plt.show()"
   ]
  },
  {
   "cell_type": "code",
   "execution_count": null,
   "id": "3c255dd0-2cff-4164-bd7e-a6a8e6e0d2ae",
   "metadata": {},
   "outputs": [],
   "source": [
    "# 3. Create a boxplot for each feature\n",
    "# ----------------------------\n",
    "plt.figure(figsize=(12, 8))\n",
    "for i, column in enumerate(data.columns[:-1], 1):  # Skip 'Species'\n",
    "    plt.subplot(2, 2, i)\n",
    "    sns.boxplot(y=data[column], color=\"skyblue\")\n",
    "    plt.title(f'Boxplot of {column}')\n",
    "plt.tight_layout()\n",
    "plt.show()"
   ]
  },
  {
   "cell_type": "code",
   "execution_count": null,
   "id": "fda71445-c6e7-443f-ac4c-ab3623b88a70",
   "metadata": {},
   "outputs": [],
   "source": [
    "# 4. Compare distributions and identify outliers\n",
    "# ----------------------------\n",
    "# Summary of outliers using descriptive statistics\n",
    "print(\"\\nDescriptive Statistics:\")\n",
    "print(data.describe())"
   ]
  },
  {
   "cell_type": "code",
   "execution_count": null,
   "id": "76ba5bcd-de23-4fbe-bfb9-c9ecb9fa9919",
   "metadata": {},
   "outputs": [],
   "source": [
    "# Optional: Detect outliers with IQR method\n",
    "print(\"\\nPotential Outliers:\")\n",
    "for column in data.columns[:-1]:\n",
    "    Q1 = data[column].quantile(0.25)\n",
    "    Q3 = data[column].quantile(0.75)\n",
    "    IQR = Q3 - Q1\n",
    "    outliers = data[(data[column] < Q1 - 1.5 * IQR) | (data[column] > Q3 + 1.5 * IQR)]\n",
    "    print(f\"{column}: {len(outliers)} outlier(s)\")\n"
   ]
  }
 ],
 "metadata": {
  "kernelspec": {
   "display_name": "Python 3 (ipykernel)",
   "language": "python",
   "name": "python3"
  },
  "language_info": {
   "codemirror_mode": {
    "name": "ipython",
    "version": 3
   },
   "file_extension": ".py",
   "mimetype": "text/x-python",
   "name": "python",
   "nbconvert_exporter": "python",
   "pygments_lexer": "ipython3",
   "version": "3.13.1"
  }
 },
 "nbformat": 4,
 "nbformat_minor": 5
}
